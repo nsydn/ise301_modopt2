{
  "nbformat": 4,
  "nbformat_minor": 0,
  "metadata": {
    "colab": {
      "provenance": [],
      "collapsed_sections": [],
      "authorship_tag": "ABX9TyOA6sgxr3JpBV3wR9Vyu5kw",
      "include_colab_link": true
    },
    "kernelspec": {
      "name": "python3",
      "display_name": "Python 3"
    },
    "language_info": {
      "name": "python"
    }
  },
  "cells": [
    {
      "cell_type": "markdown",
      "metadata": {
        "id": "view-in-github",
        "colab_type": "text"
      },
      "source": [
        "<a href=\"https://colab.research.google.com/github/nsydn/ise301_modopt2/blob/main/ise301_modopt2_lab1.ipynb\" target=\"_parent\"><img src=\"https://colab.research.google.com/assets/colab-badge.svg\" alt=\"Open In Colab\"/></a>"
      ]
    },
    {
      "cell_type": "code",
      "execution_count": null,
      "metadata": {
        "id": "fhIjg91ZJKA3"
      },
      "outputs": [],
      "source": [
        "%pip install pulp"
      ]
    },
    {
      "cell_type": "code",
      "source": [
        "import pulp\n",
        "from pulp import *"
      ],
      "metadata": {
        "id": "MdCCeQvgaMbr"
      },
      "execution_count": null,
      "outputs": []
    },
    {
      "cell_type": "code",
      "source": [
        "# initiate the model object\n",
        "model1 = LpProblem('My_first_LP_problem',LpMaximize)"
      ],
      "metadata": {
        "id": "iTkhPE8qaWBh"
      },
      "execution_count": null,
      "outputs": []
    },
    {
      "cell_type": "code",
      "source": [
        "# Generate decision variables\n",
        "x1 = LpVariable('x1',lowBound=0,cat='Integer')\n",
        "x2 = LpVariable('x2',lowBound=0,cat='Integer')"
      ],
      "metadata": {
        "id": "WRGftCSzasfJ"
      },
      "execution_count": null,
      "outputs": []
    },
    {
      "cell_type": "code",
      "source": [
        "# Add objective function (method 1)\n",
        "z = 7*x1 + 3*x2, 'My objective'\n",
        "model1 += z"
      ],
      "metadata": {
        "id": "GZmtdL0EbJrh"
      },
      "execution_count": null,
      "outputs": []
    },
    {
      "cell_type": "code",
      "source": [
        "# Add objective function (method 2)\n",
        "model1 += 7*x1 + 3*x2, 'My objective'"
      ],
      "metadata": {
        "id": "Nap0BZk6bmBu"
      },
      "execution_count": null,
      "outputs": []
    },
    {
      "cell_type": "code",
      "source": [
        "# Add constraints\n",
        "model1 += 2*x1 + x2 <= 9, 'My_first_constraint'\n",
        "model1 += 3*x1 + 2*x2 <= 13, 'My_second_constraint'"
      ],
      "metadata": {
        "id": "JH8KDJ-ob8H3"
      },
      "execution_count": null,
      "outputs": []
    },
    {
      "cell_type": "code",
      "source": [
        "# Solve the model\n",
        "model1.solve()"
      ],
      "metadata": {
        "id": "lgwHcBbnck4N"
      },
      "execution_count": null,
      "outputs": []
    },
    {
      "cell_type": "code",
      "source": [
        "# Get the solution status\n",
        "LpStatus[model1.status]"
      ],
      "metadata": {
        "id": "PA3wORoNdYJl"
      },
      "execution_count": null,
      "outputs": []
    },
    {
      "cell_type": "code",
      "source": [
        "# Print optimal values\n",
        "x1.varValue, x2.varValue, value(model1.objective)"
      ],
      "metadata": {
        "id": "G3BIsXNRx0Dy"
      },
      "execution_count": null,
      "outputs": []
    }
  ]
}