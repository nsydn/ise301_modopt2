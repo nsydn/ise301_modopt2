{
  "nbformat": 4,
  "nbformat_minor": 0,
  "metadata": {
    "colab": {
      "provenance": [],
      "authorship_tag": "ABX9TyNWQPBWwH/ARrG9G+GL83Im",
      "include_colab_link": true
    },
    "kernelspec": {
      "name": "python3",
      "display_name": "Python 3"
    },
    "language_info": {
      "name": "python"
    }
  },
  "cells": [
    {
      "cell_type": "markdown",
      "metadata": {
        "id": "view-in-github",
        "colab_type": "text"
      },
      "source": [
        "<a href=\"https://colab.research.google.com/github/nsydn/ise301_modopt2/blob/main/ise301_ip_lockbox.ipynb\" target=\"_parent\"><img src=\"https://colab.research.google.com/assets/colab-badge.svg\" alt=\"Open In Colab\"/></a>"
      ]
    },
    {
      "cell_type": "code",
      "execution_count": 1,
      "metadata": {
        "colab": {
          "base_uri": "https://localhost:8080/"
        },
        "id": "rp2nRoLcNqB9",
        "outputId": "dcd81196-96d2-4739-a15d-1f062d36aea6"
      },
      "outputs": [
        {
          "output_type": "stream",
          "name": "stdout",
          "text": [
            "Looking in indexes: https://pypi.org/simple, https://us-python.pkg.dev/colab-wheels/public/simple/\n",
            "Collecting pulp\n",
            "  Downloading PuLP-2.6.0-py3-none-any.whl (14.2 MB)\n",
            "\u001b[K     |████████████████████████████████| 14.2 MB 5.2 MB/s \n",
            "\u001b[?25hInstalling collected packages: pulp\n",
            "Successfully installed pulp-2.6.0\n"
          ]
        }
      ],
      "source": [
        "%pip install pulp\n",
        "from pulp import *"
      ]
    },
    {
      "cell_type": "code",
      "source": [
        "regions = ['west','midwest','east','south']\n",
        "cities = ['city1','city2','city3','city4']"
      ],
      "metadata": {
        "id": "o3tNNOIXN64d"
      },
      "execution_count": 2,
      "outputs": []
    },
    {
      "cell_type": "code",
      "source": [
        "import pandas as pd"
      ],
      "metadata": {
        "id": "7WlzwSu0PxLU"
      },
      "execution_count": 3,
      "outputs": []
    },
    {
      "cell_type": "code",
      "source": [
        "delays = pd.read_excel('lockbox_data.xlsx','delays',index_col=0)\n",
        "amounts = pd.read_excel('lockbox_data.xlsx','amounts',index_col=0)"
      ],
      "metadata": {
        "id": "Ty_psgyEP1QS"
      },
      "execution_count": 4,
      "outputs": []
    },
    {
      "cell_type": "code",
      "source": [
        "cost = pd.DataFrame(delays.values * amounts.values * 0.2 / 1000, columns=delays.columns, index=delays.index)"
      ],
      "metadata": {
        "id": "-bL8RtY4Qc7j"
      },
      "execution_count": 10,
      "outputs": []
    },
    {
      "cell_type": "code",
      "source": [
        "cost"
      ],
      "metadata": {
        "colab": {
          "base_uri": "https://localhost:8080/",
          "height": 206
        },
        "id": "u9Dtimf9RxdP",
        "outputId": "1f395935-fe24-404a-e0ac-85ff9c369292"
      },
      "execution_count": 11,
      "outputs": [
        {
          "output_type": "execute_result",
          "data": {
            "text/plain": [
              "         city1  city2  city3  city4\n",
              "delay                              \n",
              "west      28.0   84.0  112.0  112.0\n",
              "midwest   60.0   20.0   50.0   50.0\n",
              "east      96.0   60.0   24.0   60.0\n",
              "south     64.0   40.0   40.0   16.0"
            ],
            "text/html": [
              "\n",
              "  <div id=\"df-c83e7962-1dd8-483a-bf6a-bfaaf5704962\">\n",
              "    <div class=\"colab-df-container\">\n",
              "      <div>\n",
              "<style scoped>\n",
              "    .dataframe tbody tr th:only-of-type {\n",
              "        vertical-align: middle;\n",
              "    }\n",
              "\n",
              "    .dataframe tbody tr th {\n",
              "        vertical-align: top;\n",
              "    }\n",
              "\n",
              "    .dataframe thead th {\n",
              "        text-align: right;\n",
              "    }\n",
              "</style>\n",
              "<table border=\"1\" class=\"dataframe\">\n",
              "  <thead>\n",
              "    <tr style=\"text-align: right;\">\n",
              "      <th></th>\n",
              "      <th>city1</th>\n",
              "      <th>city2</th>\n",
              "      <th>city3</th>\n",
              "      <th>city4</th>\n",
              "    </tr>\n",
              "    <tr>\n",
              "      <th>delay</th>\n",
              "      <th></th>\n",
              "      <th></th>\n",
              "      <th></th>\n",
              "      <th></th>\n",
              "    </tr>\n",
              "  </thead>\n",
              "  <tbody>\n",
              "    <tr>\n",
              "      <th>west</th>\n",
              "      <td>28.0</td>\n",
              "      <td>84.0</td>\n",
              "      <td>112.0</td>\n",
              "      <td>112.0</td>\n",
              "    </tr>\n",
              "    <tr>\n",
              "      <th>midwest</th>\n",
              "      <td>60.0</td>\n",
              "      <td>20.0</td>\n",
              "      <td>50.0</td>\n",
              "      <td>50.0</td>\n",
              "    </tr>\n",
              "    <tr>\n",
              "      <th>east</th>\n",
              "      <td>96.0</td>\n",
              "      <td>60.0</td>\n",
              "      <td>24.0</td>\n",
              "      <td>60.0</td>\n",
              "    </tr>\n",
              "    <tr>\n",
              "      <th>south</th>\n",
              "      <td>64.0</td>\n",
              "      <td>40.0</td>\n",
              "      <td>40.0</td>\n",
              "      <td>16.0</td>\n",
              "    </tr>\n",
              "  </tbody>\n",
              "</table>\n",
              "</div>\n",
              "      <button class=\"colab-df-convert\" onclick=\"convertToInteractive('df-c83e7962-1dd8-483a-bf6a-bfaaf5704962')\"\n",
              "              title=\"Convert this dataframe to an interactive table.\"\n",
              "              style=\"display:none;\">\n",
              "        \n",
              "  <svg xmlns=\"http://www.w3.org/2000/svg\" height=\"24px\"viewBox=\"0 0 24 24\"\n",
              "       width=\"24px\">\n",
              "    <path d=\"M0 0h24v24H0V0z\" fill=\"none\"/>\n",
              "    <path d=\"M18.56 5.44l.94 2.06.94-2.06 2.06-.94-2.06-.94-.94-2.06-.94 2.06-2.06.94zm-11 1L8.5 8.5l.94-2.06 2.06-.94-2.06-.94L8.5 2.5l-.94 2.06-2.06.94zm10 10l.94 2.06.94-2.06 2.06-.94-2.06-.94-.94-2.06-.94 2.06-2.06.94z\"/><path d=\"M17.41 7.96l-1.37-1.37c-.4-.4-.92-.59-1.43-.59-.52 0-1.04.2-1.43.59L10.3 9.45l-7.72 7.72c-.78.78-.78 2.05 0 2.83L4 21.41c.39.39.9.59 1.41.59.51 0 1.02-.2 1.41-.59l7.78-7.78 2.81-2.81c.8-.78.8-2.07 0-2.86zM5.41 20L4 18.59l7.72-7.72 1.47 1.35L5.41 20z\"/>\n",
              "  </svg>\n",
              "      </button>\n",
              "      \n",
              "  <style>\n",
              "    .colab-df-container {\n",
              "      display:flex;\n",
              "      flex-wrap:wrap;\n",
              "      gap: 12px;\n",
              "    }\n",
              "\n",
              "    .colab-df-convert {\n",
              "      background-color: #E8F0FE;\n",
              "      border: none;\n",
              "      border-radius: 50%;\n",
              "      cursor: pointer;\n",
              "      display: none;\n",
              "      fill: #1967D2;\n",
              "      height: 32px;\n",
              "      padding: 0 0 0 0;\n",
              "      width: 32px;\n",
              "    }\n",
              "\n",
              "    .colab-df-convert:hover {\n",
              "      background-color: #E2EBFA;\n",
              "      box-shadow: 0px 1px 2px rgba(60, 64, 67, 0.3), 0px 1px 3px 1px rgba(60, 64, 67, 0.15);\n",
              "      fill: #174EA6;\n",
              "    }\n",
              "\n",
              "    [theme=dark] .colab-df-convert {\n",
              "      background-color: #3B4455;\n",
              "      fill: #D2E3FC;\n",
              "    }\n",
              "\n",
              "    [theme=dark] .colab-df-convert:hover {\n",
              "      background-color: #434B5C;\n",
              "      box-shadow: 0px 1px 3px 1px rgba(0, 0, 0, 0.15);\n",
              "      filter: drop-shadow(0px 1px 2px rgba(0, 0, 0, 0.3));\n",
              "      fill: #FFFFFF;\n",
              "    }\n",
              "  </style>\n",
              "\n",
              "      <script>\n",
              "        const buttonEl =\n",
              "          document.querySelector('#df-c83e7962-1dd8-483a-bf6a-bfaaf5704962 button.colab-df-convert');\n",
              "        buttonEl.style.display =\n",
              "          google.colab.kernel.accessAllowed ? 'block' : 'none';\n",
              "\n",
              "        async function convertToInteractive(key) {\n",
              "          const element = document.querySelector('#df-c83e7962-1dd8-483a-bf6a-bfaaf5704962');\n",
              "          const dataTable =\n",
              "            await google.colab.kernel.invokeFunction('convertToInteractive',\n",
              "                                                     [key], {});\n",
              "          if (!dataTable) return;\n",
              "\n",
              "          const docLinkHtml = 'Like what you see? Visit the ' +\n",
              "            '<a target=\"_blank\" href=https://colab.research.google.com/notebooks/data_table.ipynb>data table notebook</a>'\n",
              "            + ' to learn more about interactive tables.';\n",
              "          element.innerHTML = '';\n",
              "          dataTable['output_type'] = 'display_data';\n",
              "          await google.colab.output.renderOutput(dataTable, element);\n",
              "          const docLink = document.createElement('div');\n",
              "          docLink.innerHTML = docLinkHtml;\n",
              "          element.appendChild(docLink);\n",
              "        }\n",
              "      </script>\n",
              "    </div>\n",
              "  </div>\n",
              "  "
            ]
          },
          "metadata": {},
          "execution_count": 11
        }
      ]
    },
    {
      "cell_type": "code",
      "source": [
        "model = LpProblem('Lockbox_v1',LpMinimize)"
      ],
      "metadata": {
        "id": "nf-_8Xj1SAOT"
      },
      "execution_count": 12,
      "outputs": []
    },
    {
      "cell_type": "code",
      "source": [
        "x = LpVariable.dicts('x',[(i,j) for i in regions for j in cities],cat='Binary')\n",
        "y = LpVariable.dicts('y',[j for j in cities],cat='Binary')"
      ],
      "metadata": {
        "id": "xn9rhUFoSNP_"
      },
      "execution_count": 17,
      "outputs": []
    },
    {
      "cell_type": "code",
      "source": [
        "z1 = lpSum([cost.loc[i,j]*x[i,j] for i in regions for j in cities])\n",
        "z2 = lpSum([50*y[j] for j in cities])"
      ],
      "metadata": {
        "id": "C2J0KIfTTDjv"
      },
      "execution_count": 21,
      "outputs": []
    },
    {
      "cell_type": "code",
      "source": [
        "model += z1 + z2"
      ],
      "metadata": {
        "id": "Am6niqktUs8c"
      },
      "execution_count": 22,
      "outputs": []
    },
    {
      "cell_type": "code",
      "source": [
        "model"
      ],
      "metadata": {
        "colab": {
          "base_uri": "https://localhost:8080/"
        },
        "id": "fvMO121EUwLQ",
        "outputId": "323fe4fd-0b99-4202-bf37-74331fca7509"
      },
      "execution_count": 23,
      "outputs": [
        {
          "output_type": "execute_result",
          "data": {
            "text/plain": [
              "Lockbox_v1:\n",
              "MINIMIZE\n",
              "96.0*x_('east',_'city1') + 60.0*x_('east',_'city2') + 24.0*x_('east',_'city3') + 60.0*x_('east',_'city4') + 60.0*x_('midwest',_'city1') + 20.0*x_('midwest',_'city2') + 50.0*x_('midwest',_'city3') + 50.0*x_('midwest',_'city4') + 64.0*x_('south',_'city1') + 40.0*x_('south',_'city2') + 40.0*x_('south',_'city3') + 16.0*x_('south',_'city4') + 28.0*x_('west',_'city1') + 84.0*x_('west',_'city2') + 112.0*x_('west',_'city3') + 112.0*x_('west',_'city4') + 50*y_city1 + 50*y_city2 + 50*y_city3 + 50*y_city4 + 0.0\n",
              "VARIABLES\n",
              "0 <= x_('east',_'city1') <= 1 Integer\n",
              "0 <= x_('east',_'city2') <= 1 Integer\n",
              "0 <= x_('east',_'city3') <= 1 Integer\n",
              "0 <= x_('east',_'city4') <= 1 Integer\n",
              "0 <= x_('midwest',_'city1') <= 1 Integer\n",
              "0 <= x_('midwest',_'city2') <= 1 Integer\n",
              "0 <= x_('midwest',_'city3') <= 1 Integer\n",
              "0 <= x_('midwest',_'city4') <= 1 Integer\n",
              "0 <= x_('south',_'city1') <= 1 Integer\n",
              "0 <= x_('south',_'city2') <= 1 Integer\n",
              "0 <= x_('south',_'city3') <= 1 Integer\n",
              "0 <= x_('south',_'city4') <= 1 Integer\n",
              "0 <= x_('west',_'city1') <= 1 Integer\n",
              "0 <= x_('west',_'city2') <= 1 Integer\n",
              "0 <= x_('west',_'city3') <= 1 Integer\n",
              "0 <= x_('west',_'city4') <= 1 Integer\n",
              "0 <= y_city1 <= 1 Integer\n",
              "0 <= y_city2 <= 1 Integer\n",
              "0 <= y_city3 <= 1 Integer\n",
              "0 <= y_city4 <= 1 Integer"
            ]
          },
          "metadata": {},
          "execution_count": 23
        }
      ]
    },
    {
      "cell_type": "code",
      "source": [
        "for i in regions:\n",
        "  model += lpSum([x[i,j] for j in cities]) == 1"
      ],
      "metadata": {
        "id": "MGArDJt4VIGL"
      },
      "execution_count": 24,
      "outputs": []
    },
    {
      "cell_type": "code",
      "source": [
        "for j in cities:\n",
        "  model += lpSum([x[i,j] for i in regions]) <= 4*y[j]"
      ],
      "metadata": {
        "id": "nH5WwcAKVvOM"
      },
      "execution_count": 26,
      "outputs": []
    },
    {
      "cell_type": "code",
      "source": [
        "model.solve()"
      ],
      "metadata": {
        "colab": {
          "base_uri": "https://localhost:8080/"
        },
        "id": "D0RLzd9aVlxc",
        "outputId": "f09179ee-c0c6-4933-f1bc-fc4448bae287"
      },
      "execution_count": 27,
      "outputs": [
        {
          "output_type": "execute_result",
          "data": {
            "text/plain": [
              "1"
            ]
          },
          "metadata": {},
          "execution_count": 27
        }
      ]
    },
    {
      "cell_type": "code",
      "source": [
        "LpStatus[model.status]"
      ],
      "metadata": {
        "colab": {
          "base_uri": "https://localhost:8080/",
          "height": 36
        },
        "id": "TdrS9TtKWqa-",
        "outputId": "72e6a4b0-1fed-4e62-d02c-b5f7a386dc65"
      },
      "execution_count": 28,
      "outputs": [
        {
          "output_type": "execute_result",
          "data": {
            "text/plain": [
              "'Optimal'"
            ],
            "application/vnd.google.colaboratory.intrinsic+json": {
              "type": "string"
            }
          },
          "metadata": {},
          "execution_count": 28
        }
      ]
    },
    {
      "cell_type": "code",
      "source": [
        "vardict = {}\n",
        "for v in model.variables():\n",
        "  vardict[v.name] = v.varValue\n",
        "vardict['z'] = value(model.objective)"
      ],
      "metadata": {
        "id": "ySObDVugWu__"
      },
      "execution_count": 29,
      "outputs": []
    },
    {
      "cell_type": "code",
      "source": [
        "vardict"
      ],
      "metadata": {
        "colab": {
          "base_uri": "https://localhost:8080/"
        },
        "id": "bsH1Ev2JXDQz",
        "outputId": "2e4a3092-0082-4e74-8e26-8f47016c9ae5"
      },
      "execution_count": 30,
      "outputs": [
        {
          "output_type": "execute_result",
          "data": {
            "text/plain": [
              "{\"x_('east',_'city1')\": 0.0,\n",
              " \"x_('east',_'city2')\": 0.0,\n",
              " \"x_('east',_'city3')\": 1.0,\n",
              " \"x_('east',_'city4')\": 0.0,\n",
              " \"x_('midwest',_'city1')\": 0.0,\n",
              " \"x_('midwest',_'city2')\": 0.0,\n",
              " \"x_('midwest',_'city3')\": 1.0,\n",
              " \"x_('midwest',_'city4')\": 0.0,\n",
              " \"x_('south',_'city1')\": 0.0,\n",
              " \"x_('south',_'city2')\": 0.0,\n",
              " \"x_('south',_'city3')\": 1.0,\n",
              " \"x_('south',_'city4')\": 0.0,\n",
              " \"x_('west',_'city1')\": 1.0,\n",
              " \"x_('west',_'city2')\": 0.0,\n",
              " \"x_('west',_'city3')\": 0.0,\n",
              " \"x_('west',_'city4')\": 0.0,\n",
              " 'y_city1': 1.0,\n",
              " 'y_city2': 0.0,\n",
              " 'y_city3': 1.0,\n",
              " 'y_city4': 0.0,\n",
              " 'z': 242.0}"
            ]
          },
          "metadata": {},
          "execution_count": 30
        }
      ]
    }
  ]
}