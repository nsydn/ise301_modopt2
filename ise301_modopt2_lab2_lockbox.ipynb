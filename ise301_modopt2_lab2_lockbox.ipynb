{
  "nbformat": 4,
  "nbformat_minor": 0,
  "metadata": {
    "colab": {
      "provenance": [],
      "authorship_tag": "ABX9TyOufDswityV0vA8NT+ABNa3",
      "include_colab_link": true
    },
    "kernelspec": {
      "name": "python3",
      "display_name": "Python 3"
    },
    "language_info": {
      "name": "python"
    }
  },
  "cells": [
    {
      "cell_type": "markdown",
      "metadata": {
        "id": "view-in-github",
        "colab_type": "text"
      },
      "source": [
        "<a href=\"https://colab.research.google.com/github/nsydn/ise301_modopt2/blob/main/ise301_modopt2_lab2_lockbox.ipynb\" target=\"_parent\"><img src=\"https://colab.research.google.com/assets/colab-badge.svg\" alt=\"Open In Colab\"/></a>"
      ]
    },
    {
      "cell_type": "code",
      "execution_count": null,
      "metadata": {
        "id": "rp2nRoLcNqB9"
      },
      "outputs": [],
      "source": [
        "%pip install pulp\n",
        "from pulp import *"
      ]
    },
    {
      "cell_type": "code",
      "source": [
        "regions = ['west','midwest','east','south']\n",
        "cities = ['city1','city2','city3','city4']"
      ],
      "metadata": {
        "id": "o3tNNOIXN64d"
      },
      "execution_count": null,
      "outputs": []
    },
    {
      "cell_type": "code",
      "source": [
        "import pandas as pd"
      ],
      "metadata": {
        "id": "7WlzwSu0PxLU"
      },
      "execution_count": null,
      "outputs": []
    },
    {
      "cell_type": "code",
      "source": [
        "delays = pd.read_excel('lockbox_data.xlsx','delays',index_col=0)\n",
        "amounts = pd.read_excel('lockbox_data.xlsx','amounts',index_col=0)"
      ],
      "metadata": {
        "id": "Ty_psgyEP1QS"
      },
      "execution_count": null,
      "outputs": []
    },
    {
      "cell_type": "code",
      "source": [
        "cost = pd.DataFrame(delays.values * amounts.values * 0.2 / 1000, columns=delays.columns, index=delays.index)"
      ],
      "metadata": {
        "id": "-bL8RtY4Qc7j"
      },
      "execution_count": null,
      "outputs": []
    },
    {
      "cell_type": "code",
      "source": [
        "model = LpProblem('Lockbox_v1',LpMinimize)"
      ],
      "metadata": {
        "id": "nf-_8Xj1SAOT"
      },
      "execution_count": null,
      "outputs": []
    },
    {
      "cell_type": "code",
      "source": [
        "x = LpVariable.dicts('x',[(i,j) for i in regions for j in cities],cat='Binary')\n",
        "y = LpVariable.dicts('y',[j for j in cities],cat='Binary')"
      ],
      "metadata": {
        "id": "xn9rhUFoSNP_"
      },
      "execution_count": null,
      "outputs": []
    },
    {
      "cell_type": "code",
      "source": [
        "z1 = lpSum([cost.loc[i,j]*x[i,j] for i in regions for j in cities])\n",
        "z2 = lpSum([50*y[j] for j in cities])"
      ],
      "metadata": {
        "id": "C2J0KIfTTDjv"
      },
      "execution_count": null,
      "outputs": []
    },
    {
      "cell_type": "code",
      "source": [
        "model += z1 + z2"
      ],
      "metadata": {
        "id": "Am6niqktUs8c"
      },
      "execution_count": null,
      "outputs": []
    },
    {
      "cell_type": "code",
      "source": [
        "for i in regions:\n",
        "  model += lpSum([x[i,j] for j in cities]) == 1"
      ],
      "metadata": {
        "id": "MGArDJt4VIGL"
      },
      "execution_count": null,
      "outputs": []
    },
    {
      "cell_type": "code",
      "source": [
        "for j in cities:\n",
        "  model += lpSum([x[i,j] for i in regions]) <= 4*y[j]"
      ],
      "metadata": {
        "id": "nH5WwcAKVvOM"
      },
      "execution_count": null,
      "outputs": []
    },
    {
      "cell_type": "code",
      "source": [
        "model.solve()"
      ],
      "metadata": {
        "id": "D0RLzd9aVlxc"
      },
      "execution_count": null,
      "outputs": []
    },
    {
      "cell_type": "code",
      "source": [
        "LpStatus[model.status]"
      ],
      "metadata": {
        "id": "TdrS9TtKWqa-"
      },
      "execution_count": null,
      "outputs": []
    },
    {
      "cell_type": "code",
      "source": [
        "vardict = {}\n",
        "for v in model.variables():\n",
        "  vardict[v.name] = v.varValue\n",
        "vardict['z'] = value(model.objective)"
      ],
      "metadata": {
        "id": "ySObDVugWu__"
      },
      "execution_count": null,
      "outputs": []
    },
    {
      "cell_type": "code",
      "source": [
        "vardict"
      ],
      "metadata": {
        "id": "bsH1Ev2JXDQz"
      },
      "execution_count": null,
      "outputs": []
    }
  ]
}